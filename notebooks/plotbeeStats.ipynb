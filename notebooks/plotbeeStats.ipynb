{
 "cells": [
  {
   "cell_type": "code",
   "execution_count": null,
   "metadata": {
    "id": "0gSjkQ7xN-VP"
   },
   "outputs": [],
   "source": [
    "#@title Github Package Link { display-mode: \"form\" }\n",
    "!git clone https://github.com/asoledad33/pbstats.git"
   ]
  },
  {
   "cell_type": "code",
   "execution_count": null,
   "metadata": {
    "id": "8sOdPvNoLZwu"
   },
   "outputs": [],
   "source": [
    "#@title Package Install { display-mode: \"form\" }\n",
    "! pip install pbstats/"
   ]
  },
  {
   "cell_type": "code",
   "execution_count": 1,
   "metadata": {},
   "outputs": [
    {
     "name": "stdout",
     "output_type": "stream",
     "text": [
      "/home/rmegret/pbstats\n"
     ]
    }
   ],
   "source": [
    "# Make sure you run from the top level pbstats directory\n",
    "!pwd\n",
    "%cd .."
   ]
  },
  {
   "cell_type": "code",
   "execution_count": 2,
   "metadata": {},
   "outputs": [],
   "source": [
    "%load_ext autoreload\n",
    "%autoreload 2"
   ]
  },
  {
   "cell_type": "code",
   "execution_count": 3,
   "metadata": {
    "id": "9YAfE023QjqZ"
   },
   "outputs": [],
   "source": [
    "import json\n",
    "import pbstats as pbs\n",
    "\n",
    "video = 'data/mango_180202-080200-20220401_150947_Tracks.json'\n",
    "\n",
    "with open(video, 'r') as file:\n",
    "    rawData = json.loads(file.read())"
   ]
  },
  {
   "cell_type": "code",
   "execution_count": 7,
   "metadata": {},
   "outputs": [
    {
     "name": "stdout",
     "output_type": "stream",
     "text": [
      "test\n"
     ]
    }
   ],
   "source": [
    "pbs.extract.test()"
   ]
  },
  {
   "cell_type": "code",
   "execution_count": 6,
   "metadata": {
    "id": "QpW0O-rWQmBP"
   },
   "outputs": [
    {
     "name": "stdout",
     "output_type": "stream",
     "text": [
      "tata\n"
     ]
    },
    {
     "data": {
      "text/html": [
       "<div>\n",
       "<style scoped>\n",
       "    .dataframe tbody tr th:only-of-type {\n",
       "        vertical-align: middle;\n",
       "    }\n",
       "\n",
       "    .dataframe tbody tr th {\n",
       "        vertical-align: top;\n",
       "    }\n",
       "\n",
       "    .dataframe thead th {\n",
       "        text-align: right;\n",
       "    }\n",
       "</style>\n",
       "<table border=\"1\" class=\"dataframe\">\n",
       "  <thead>\n",
       "    <tr style=\"text-align: right;\">\n",
       "      <th></th>\n",
       "      <th>Pollinator</th>\n",
       "      <th>Time</th>\n",
       "      <th>Frame</th>\n",
       "      <th>p_cx</th>\n",
       "      <th>p_cy</th>\n",
       "      <th>Visit Duration (s)</th>\n",
       "      <th>Distance</th>\n",
       "      <th>Flower</th>\n",
       "      <th>f_cx</th>\n",
       "      <th>f_cy</th>\n",
       "    </tr>\n",
       "  </thead>\n",
       "  <tbody>\n",
       "    <tr>\n",
       "      <th>3</th>\n",
       "      <td>P3</td>\n",
       "      <td>11.65</td>\n",
       "      <td>233</td>\n",
       "      <td>1673.804</td>\n",
       "      <td>462.306</td>\n",
       "      <td>NaN</td>\n",
       "      <td>10.023254</td>\n",
       "      <td>F318</td>\n",
       "      <td>1672.404</td>\n",
       "      <td>452.381</td>\n",
       "    </tr>\n",
       "    <tr>\n",
       "      <th>4</th>\n",
       "      <td>P3</td>\n",
       "      <td>17.20</td>\n",
       "      <td>344</td>\n",
       "      <td>1718.606</td>\n",
       "      <td>447.414</td>\n",
       "      <td>NaN</td>\n",
       "      <td>14.128786</td>\n",
       "      <td>F316</td>\n",
       "      <td>1725.310</td>\n",
       "      <td>434.977</td>\n",
       "    </tr>\n",
       "    <tr>\n",
       "      <th>5</th>\n",
       "      <td>P3</td>\n",
       "      <td>18.85</td>\n",
       "      <td>377</td>\n",
       "      <td>1760.034</td>\n",
       "      <td>484.364</td>\n",
       "      <td>NaN</td>\n",
       "      <td>5.439434</td>\n",
       "      <td>F321</td>\n",
       "      <td>1760.430</td>\n",
       "      <td>478.939</td>\n",
       "    </tr>\n",
       "    <tr>\n",
       "      <th>6</th>\n",
       "      <td>P3</td>\n",
       "      <td>19.85</td>\n",
       "      <td>397</td>\n",
       "      <td>1782.152</td>\n",
       "      <td>516.480</td>\n",
       "      <td>NaN</td>\n",
       "      <td>17.562211</td>\n",
       "      <td>F309</td>\n",
       "      <td>1796.314</td>\n",
       "      <td>526.866</td>\n",
       "    </tr>\n",
       "    <tr>\n",
       "      <th>8</th>\n",
       "      <td>P3</td>\n",
       "      <td>27.95</td>\n",
       "      <td>559</td>\n",
       "      <td>1898.622</td>\n",
       "      <td>638.524</td>\n",
       "      <td>NaN</td>\n",
       "      <td>36.179415</td>\n",
       "      <td>F295</td>\n",
       "      <td>1862.445</td>\n",
       "      <td>638.942</td>\n",
       "    </tr>\n",
       "    <tr>\n",
       "      <th>9</th>\n",
       "      <td>P3</td>\n",
       "      <td>28.20</td>\n",
       "      <td>564</td>\n",
       "      <td>1911.781</td>\n",
       "      <td>632.519</td>\n",
       "      <td>NaN</td>\n",
       "      <td>46.510680</td>\n",
       "      <td>F290</td>\n",
       "      <td>1928.716</td>\n",
       "      <td>675.837</td>\n",
       "    </tr>\n",
       "    <tr>\n",
       "      <th>11</th>\n",
       "      <td>P3</td>\n",
       "      <td>28.50</td>\n",
       "      <td>570</td>\n",
       "      <td>1940.269</td>\n",
       "      <td>618.221</td>\n",
       "      <td>NaN</td>\n",
       "      <td>24.101207</td>\n",
       "      <td>F286</td>\n",
       "      <td>1958.433</td>\n",
       "      <td>634.062</td>\n",
       "    </tr>\n",
       "    <tr>\n",
       "      <th>15</th>\n",
       "      <td>P6</td>\n",
       "      <td>192.30</td>\n",
       "      <td>3846</td>\n",
       "      <td>1459.403</td>\n",
       "      <td>666.258</td>\n",
       "      <td>NaN</td>\n",
       "      <td>16.252587</td>\n",
       "      <td>F39</td>\n",
       "      <td>1449.081</td>\n",
       "      <td>678.812</td>\n",
       "    </tr>\n",
       "  </tbody>\n",
       "</table>\n",
       "</div>"
      ],
      "text/plain": [
       "   Pollinator    Time  Frame      p_cx     p_cy  Visit Duration (s)  \\\n",
       "3          P3   11.65    233  1673.804  462.306                 NaN   \n",
       "4          P3   17.20    344  1718.606  447.414                 NaN   \n",
       "5          P3   18.85    377  1760.034  484.364                 NaN   \n",
       "6          P3   19.85    397  1782.152  516.480                 NaN   \n",
       "8          P3   27.95    559  1898.622  638.524                 NaN   \n",
       "9          P3   28.20    564  1911.781  632.519                 NaN   \n",
       "11         P3   28.50    570  1940.269  618.221                 NaN   \n",
       "15         P6  192.30   3846  1459.403  666.258                 NaN   \n",
       "\n",
       "     Distance Flower      f_cx     f_cy  \n",
       "3   10.023254   F318  1672.404  452.381  \n",
       "4   14.128786   F316  1725.310  434.977  \n",
       "5    5.439434   F321  1760.430  478.939  \n",
       "6   17.562211   F309  1796.314  526.866  \n",
       "8   36.179415   F295  1862.445  638.942  \n",
       "9   46.510680   F290  1928.716  675.837  \n",
       "11  24.101207   F286  1958.433  634.062  \n",
       "15  16.252587    F39  1449.081  678.812  "
      ]
     },
     "metadata": {},
     "output_type": "display_data"
    },
    {
     "name": "stdout",
     "output_type": "stream",
     "text": [
      "Warning: Some data is invalid\n"
     ]
    }
   ],
   "source": [
    "#@title Visits Table { display-mode: \"form\" }\n",
    "data_table = pbs.extract_data(rawData)"
   ]
  },
  {
   "cell_type": "code",
   "execution_count": 18,
   "metadata": {
    "id": "lVZiDDxmLNBA"
   },
   "outputs": [
    {
     "data": {
      "text/html": [
       "<div>\n",
       "<style scoped>\n",
       "    .dataframe tbody tr th:only-of-type {\n",
       "        vertical-align: middle;\n",
       "    }\n",
       "\n",
       "    .dataframe tbody tr th {\n",
       "        vertical-align: top;\n",
       "    }\n",
       "\n",
       "    .dataframe thead tr th {\n",
       "        text-align: left;\n",
       "    }\n",
       "\n",
       "    .dataframe thead tr:last-of-type th {\n",
       "        text-align: right;\n",
       "    }\n",
       "</style>\n",
       "<table border=\"1\" class=\"dataframe\">\n",
       "  <thead>\n",
       "    <tr>\n",
       "      <th></th>\n",
       "      <th colspan=\"2\" halign=\"left\">Visit Duration (s)</th>\n",
       "    </tr>\n",
       "    <tr>\n",
       "      <th></th>\n",
       "      <th>mean</th>\n",
       "      <th>count</th>\n",
       "    </tr>\n",
       "    <tr>\n",
       "      <th>Flower</th>\n",
       "      <th></th>\n",
       "      <th></th>\n",
       "    </tr>\n",
       "  </thead>\n",
       "  <tbody>\n",
       "    <tr>\n",
       "      <th>F100</th>\n",
       "      <td>5.650000</td>\n",
       "      <td>1</td>\n",
       "    </tr>\n",
       "    <tr>\n",
       "      <th>F113</th>\n",
       "      <td>0.600000</td>\n",
       "      <td>1</td>\n",
       "    </tr>\n",
       "    <tr>\n",
       "      <th>F286</th>\n",
       "      <td>1.400000</td>\n",
       "      <td>2</td>\n",
       "    </tr>\n",
       "    <tr>\n",
       "      <th>F290</th>\n",
       "      <td>NaN</td>\n",
       "      <td>0</td>\n",
       "    </tr>\n",
       "    <tr>\n",
       "      <th>F295</th>\n",
       "      <td>0.900000</td>\n",
       "      <td>1</td>\n",
       "    </tr>\n",
       "    <tr>\n",
       "      <th>F308</th>\n",
       "      <td>2.150000</td>\n",
       "      <td>1</td>\n",
       "    </tr>\n",
       "    <tr>\n",
       "      <th>F309</th>\n",
       "      <td>NaN</td>\n",
       "      <td>0</td>\n",
       "    </tr>\n",
       "    <tr>\n",
       "      <th>F316</th>\n",
       "      <td>NaN</td>\n",
       "      <td>0</td>\n",
       "    </tr>\n",
       "    <tr>\n",
       "      <th>F318</th>\n",
       "      <td>4.433333</td>\n",
       "      <td>3</td>\n",
       "    </tr>\n",
       "    <tr>\n",
       "      <th>F321</th>\n",
       "      <td>NaN</td>\n",
       "      <td>0</td>\n",
       "    </tr>\n",
       "    <tr>\n",
       "      <th>F322</th>\n",
       "      <td>1.200000</td>\n",
       "      <td>1</td>\n",
       "    </tr>\n",
       "    <tr>\n",
       "      <th>F324</th>\n",
       "      <td>3.725000</td>\n",
       "      <td>2</td>\n",
       "    </tr>\n",
       "    <tr>\n",
       "      <th>F325</th>\n",
       "      <td>5.075000</td>\n",
       "      <td>2</td>\n",
       "    </tr>\n",
       "    <tr>\n",
       "      <th>F336</th>\n",
       "      <td>14.150000</td>\n",
       "      <td>1</td>\n",
       "    </tr>\n",
       "    <tr>\n",
       "      <th>F39</th>\n",
       "      <td>9.950000</td>\n",
       "      <td>1</td>\n",
       "    </tr>\n",
       "    <tr>\n",
       "      <th>F82</th>\n",
       "      <td>1.850000</td>\n",
       "      <td>1</td>\n",
       "    </tr>\n",
       "    <tr>\n",
       "      <th>F91</th>\n",
       "      <td>7.850000</td>\n",
       "      <td>1</td>\n",
       "    </tr>\n",
       "  </tbody>\n",
       "</table>\n",
       "</div>"
      ],
      "text/plain": [
       "       Visit Duration (s)      \n",
       "                     mean count\n",
       "Flower                         \n",
       "F100             5.650000     1\n",
       "F113             0.600000     1\n",
       "F286             1.400000     2\n",
       "F290                  NaN     0\n",
       "F295             0.900000     1\n",
       "F308             2.150000     1\n",
       "F309                  NaN     0\n",
       "F316                  NaN     0\n",
       "F318             4.433333     3\n",
       "F321                  NaN     0\n",
       "F322             1.200000     1\n",
       "F324             3.725000     2\n",
       "F325             5.075000     2\n",
       "F336            14.150000     1\n",
       "F39              9.950000     1\n",
       "F82              1.850000     1\n",
       "F91              7.850000     1"
      ]
     },
     "execution_count": 18,
     "metadata": {},
     "output_type": "execute_result"
    }
   ],
   "source": [
    "#@title Visits Statistics { display-mode: \"form\" }\n",
    "statistics = pbs.show_statistics_table(data_table)\n",
    "statistics"
   ]
  },
  {
   "cell_type": "code",
   "execution_count": null,
   "metadata": {},
   "outputs": [],
   "source": []
  }
 ],
 "metadata": {
  "colab": {
   "collapsed_sections": [],
   "name": "plotbeeStats.ipynb",
   "provenance": []
  },
  "kernelspec": {
   "display_name": "Python 3",
   "language": "python",
   "name": "python3"
  },
  "language_info": {
   "codemirror_mode": {
    "name": "ipython",
    "version": 3
   },
   "file_extension": ".py",
   "mimetype": "text/x-python",
   "name": "python",
   "nbconvert_exporter": "python",
   "pygments_lexer": "ipython3",
   "version": "3.7.0"
  }
 },
 "nbformat": 4,
 "nbformat_minor": 2
}
